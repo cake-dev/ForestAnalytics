{
 "cells": [
  {
   "cell_type": "code",
   "execution_count": null,
   "id": "56f71054",
   "metadata": {},
   "outputs": [],
   "source": [
    "import pandas as pd\n",
    "import numpy as np\n",
    "import matplotlib.pyplot as plt"
   ]
  },
  {
   "cell_type": "code",
   "execution_count": null,
   "id": "10cd6abd",
   "metadata": {},
   "outputs": [],
   "source": [
    "pd.set_option(\"display.max_rows\", 200)\n",
    "pd.set_option(\"display.max_columns\", 200)"
   ]
  },
  {
   "cell_type": "code",
   "execution_count": null,
   "id": "e7df6241",
   "metadata": {},
   "outputs": [],
   "source": [
    "mt_tree = pd.read_csv(\"MT_TREE.csv\")\n",
    "fia_trees = pd.read_csv(\"fia_treenames.csv\")\n",
    "# all_tree = pd.read_csv(\"ENTIRE_TREE.csv\")"
   ]
  },
  {
   "cell_type": "code",
   "execution_count": null,
   "id": "5ac1e8ac",
   "metadata": {},
   "outputs": [],
   "source": [
    "fia_trees[fia_trees[\"FIA Code\"] == 202]"
   ]
  },
  {
   "cell_type": "code",
   "execution_count": null,
   "id": "6e5d4a53",
   "metadata": {},
   "outputs": [],
   "source": [
    "list(mt_tree.columns)"
   ]
  },
  {
   "cell_type": "code",
   "execution_count": null,
   "id": "45aab2b7",
   "metadata": {},
   "outputs": [],
   "source": [
    "mt_tree.SPCD.value_counts()"
   ]
  },
  {
   "cell_type": "code",
   "execution_count": null,
   "id": "5681eb85",
   "metadata": {},
   "outputs": [],
   "source": [
    "mt_tree_202 = mt_tree[mt_tree[\"SPCD\"] == 202]"
   ]
  },
  {
   "cell_type": "code",
   "execution_count": null,
   "id": "8a04994a",
   "metadata": {},
   "outputs": [],
   "source": [
    "# drop rows where volcfnet is nan\n",
    "# mt_tree_202 = mt_tree_202[mt_tree_202[\"VOLCFNET\"].notna()]\n",
    "mt_tree = mt_tree[mt_tree[\"VOLCFNET\"].notna()]\n",
    "# all_tree = all_tree[all_tree[\"VOLCFNET\"].notna()]\n",
    "# all_tree = all_tree[all_tree[\"VOLCFGRS\"].notna()]\n",
    "# all_tree = all_tree[all_tree[\"HT\"].notna()]"
   ]
  },
  {
   "cell_type": "code",
   "execution_count": null,
   "id": "48ad4086",
   "metadata": {},
   "outputs": [],
   "source": [
    "mt_tree.CARBON_AG.isna().sum()"
   ]
  },
  {
   "cell_type": "code",
   "execution_count": null,
   "id": "0cc2a24e",
   "metadata": {},
   "outputs": [],
   "source": [
    "mt_tree.isna().sum()"
   ]
  },
  {
   "cell_type": "code",
   "execution_count": null,
   "id": "26917e3f",
   "metadata": {},
   "outputs": [],
   "source": [
    "# plot DIAH^2*H vs VOLCFNET\n",
    "import matplotlib.pyplot as plt\n",
    "\n",
    "mt_tree_202[\"D2H\"] = (mt_tree_202[\"DIA\"]**2)\n",
    "\n",
    "plt.scatter(mt_tree_202[\"VOLCFNET\"], mt_tree_202[\"DIA\"], s=1)\n",
    "plt.show()"
   ]
  },
  {
   "cell_type": "code",
   "execution_count": null,
   "id": "12af7790",
   "metadata": {},
   "outputs": [],
   "source": [
    "import pandas as pd\n",
    "from sklearn.model_selection import train_test_split\n",
    "from sklearn.ensemble import RandomForestRegressor\n",
    "from sklearn.metrics import mean_absolute_error, mean_squared_error, r2_score\n",
    "from sklearn.preprocessing import OneHotEncoder\n",
    "from sklearn.compose import ColumnTransformer\n",
    "from sklearn.pipeline import Pipeline\n",
    "\n",
    "def train_random_forest(df: pd.DataFrame, feature_cols: list, target_col: str):\n",
    "    \"\"\"\n",
    "    Trains a Random Forest Regressor model, evaluates it, and returns the trained model.\n",
    "\n",
    "    Args:\n",
    "        df (pd.DataFrame): The input dataframe containing the data.\n",
    "        feature_cols (list): A list of column names to be used as features.\n",
    "        target_col (str): The name of the target column.\n",
    "\n",
    "    Returns:\n",
    "        A trained scikit-learn pipeline object.\n",
    "    \"\"\"\n",
    "    print(\"--- Starting Model Training ---\")\n",
    "\n",
    "    # 1. Define Features (X) and Target (y)\n",
    "    X = df[feature_cols]\n",
    "    y = df[target_col]\n",
    "\n",
    "    # 2. Identify categorical and numerical features\n",
    "    categorical_features = X.select_dtypes(include=['object', 'category']).columns\n",
    "    numerical_features = X.select_dtypes(include=['int64', 'float64']).columns\n",
    "\n",
    "    print(f\"Identified {len(numerical_features)} numerical features: {list(numerical_features)}\")\n",
    "    print(f\"Identified {len(categorical_features)} categorical features: {list(categorical_features)}\")\n",
    "\n",
    "    # 3. Create a preprocessor object\n",
    "    # This step handles categorical features by one-hot encoding them.\n",
    "    # 'passthrough' means numerical features will be left as they are.\n",
    "    # 'handle_unknown='ignore'' prevents errors if a category appears in test data\n",
    "    # but not in training data.\n",
    "    preprocessor = ColumnTransformer(\n",
    "        transformers=[\n",
    "            ('num', 'passthrough', numerical_features),\n",
    "            ('cat', OneHotEncoder(handle_unknown='ignore'), categorical_features)\n",
    "        ])\n",
    "\n",
    "    # 4. Split data into training and testing sets\n",
    "    X_train, X_test, y_train, y_test = train_test_split(\n",
    "        X, y, test_size=0.1, random_state=42\n",
    "    )\n",
    "    print(f\"\\nData split complete. Training set size: {len(X_train)}, Test set size: {len(X_test)}\")\n",
    "\n",
    "\n",
    "    # 5. Define the model\n",
    "    # We use a random_state for reproducibility\n",
    "    rf_model = RandomForestRegressor(n_estimators=200, random_state=42, n_jobs=-1)\n",
    "\n",
    "    # 6. Create the full pipeline\n",
    "    # This pipeline first preprocesses the data then feeds it to the model.\n",
    "    model_pipeline = Pipeline(steps=[('preprocessor', preprocessor),\n",
    "                                     ('regressor', rf_model)])\n",
    "\n",
    "    # 7. Train the model\n",
    "    print(\"\\nTraining the model...\")\n",
    "    model_pipeline.fit(X_train, y_train)\n",
    "    print(\"Training complete.\")\n",
    "\n",
    "    # 8. Make predictions on the test set\n",
    "    y_pred = model_pipeline.predict(X_test)\n",
    "\n",
    "    # 9. Evaluate the model\n",
    "    mae = mean_absolute_error(y_test, y_pred)\n",
    "    mse = mean_squared_error(y_test, y_pred)\n",
    "    r2 = r2_score(y_test, y_pred)\n",
    "\n",
    "    print(\"\\n--- Model Evaluation ---\")\n",
    "    print(f\"Mean Absolute Error (MAE): {mae:.4f}\")\n",
    "    print(f\"Mean Squared Error (MSE): {mse:.4f}\")\n",
    "    print(f\"R-squared (R²): {r2:.4f}\")\n",
    "    print(\"------------------------\\n\")\n",
    "\n",
    "    return model_pipeline\n",
    "\n",
    "# --- Example Usage ---\n",
    "if __name__ == \"__main__\":\n",
    "\n",
    "    # Define feature columns and the target column\n",
    "    features = ['HT', 'DIA', 'SPCD']\n",
    "    target = 'VOLCFGRS'\n",
    "\n",
    "    # Train the model using the function\n",
    "    trained_model = train_random_forest(df=mt_tree, feature_cols=features, target_col=target)"
   ]
  },
  {
   "cell_type": "code",
   "execution_count": null,
   "id": "36b78b11",
   "metadata": {},
   "outputs": [],
   "source": [
    "new_tree_data = pd.DataFrame({\n",
    "    'HT': [88],\n",
    "    'DIA': [15.8],\n",
    "    'SPCD': [202],\n",
    "    'PLOT': [0]\n",
    "})\n",
    "\n",
    "prediction = trained_model.predict(new_tree_data)\n",
    "print(f\"Predicted value for the new tree: {prediction[0]:,.2f}\")"
   ]
  },
  {
   "cell_type": "code",
   "execution_count": null,
   "id": "a003871f",
   "metadata": {},
   "outputs": [],
   "source": [
    "mt_tree[(mt_tree['SPCD'] == 202) & (mt_tree.DIA == 7.3) & (mt_tree.HT == 34)]#[[\"DIA\", \"HT\", \"SPCD\", \"VOLCFGRS\", \"VOLCFNET\"]]"
   ]
  }
 ],
 "metadata": {
  "kernelspec": {
   "display_name": "treefire",
   "language": "python",
   "name": "python3"
  },
  "language_info": {
   "codemirror_mode": {
    "name": "ipython",
    "version": 3
   },
   "file_extension": ".py",
   "mimetype": "text/x-python",
   "name": "python",
   "nbconvert_exporter": "python",
   "pygments_lexer": "ipython3",
   "version": "3.10.14"
  }
 },
 "nbformat": 4,
 "nbformat_minor": 5
}
